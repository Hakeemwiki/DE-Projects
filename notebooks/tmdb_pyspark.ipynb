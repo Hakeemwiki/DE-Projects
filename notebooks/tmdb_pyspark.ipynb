{
 "cells": [
  {
   "cell_type": "markdown",
   "metadata": {},
   "source": [
    "# Movie Data Analysis with PySpark\n",
    "\n",
    "This Jupyter Notebook performs a comprehensive analysis of movie data fetched from the TMDB API using PySpark. \n",
    "\n",
    "It leverages functions defined in `functions.py` to fetch, clean, and analyze data, calculate KPIs, perform advanced filtering, compare franchises vs. standalone movies, analyze franchises and directors, and generate visualizations."
   ]
  },
  {
   "cell_type": "code",
   "execution_count": null,
   "metadata": {},
   "outputs": [],
   "source": [
    "# Import necessary libraries\n",
    "import pandas as pd\n",
    "import matplotlib.pyplot as plt\n",
    "from pyspark.sql import SparkSession\n",
    "\n",
    "\n",
    "# Initialize Spark session\n",
    "spark = SparkSession.builder \\\n",
    "    .appName(\"MovieDataAnalysis\") \\\n",
    "    .config(\"spark.driver.memory\", \"4g\") \\\n",
    "    .getOrCreate()"
   ]
  },
  {
   "cell_type": "code",
   "execution_count": null,
   "metadata": {},
   "outputs": [],
   "source": [
    "from functions import (\n",
    "    build_schema,              # Function to define the schema for movie data\n",
    "    fetch_movie_data,               # Function to fetch movie data from TMDB API\n",
    "    clean_movie_data,               # Function to clean and transform the dataframe\n",
    "    kpi_ranking,                    # Function to calculate key performance indicators\n",
    "    advanced_search,                # Function to perform advanced movie filtering\n",
    "    franchise_vs_standalone,        # Function to compare franchise and standalone movies\n",
    "    analyze_franchise,              # Function to analyze franchise performance\n",
    "    analyze_directors,               # Function to evaluate director performance\n",
    "    plot_revenue_vs_budget,\n",
    "    plot_roi_by_genre,\n",
    "    plot_popularity_vs_rating,\n",
    "    plot_yearly_box_office,\n",
    "    plot_franchise_vs_standalone\n",
    ")"
   ]
  },
  {
   "cell_type": "markdown",
   "metadata": {},
   "source": [
    "## Fetching Raw Movie Data\n",
    "\n",
    "- **Define movie IDs:** Creates a list of specific TMDB movie IDs to analyze.\n",
    "\n",
    "- **Build schema:** Uses `build_schema()` to define the structure of the DataFrame.\n",
    "\n",
    "- **Fetch data:** Uses `fetch_movie_data()` to collect metadata for each movie from the TMDB API.\n",
    "\n",
    "- **Preview data:** Displays the schema and first few records of the fetched raw data."
   ]
  },
  {
   "cell_type": "code",
   "execution_count": null,
   "metadata": {},
   "outputs": [],
   "source": [
    "# Define movie IDs\n",
    "movie_ids = [0, 299534, 19995, 140607, 299536, 597, 135397,\n",
    "             420818, 24428, 168259, 99861, 284054, 12445,\n",
    "             181808, 330457, 351286, 109445, 321612, 260513]\n",
    "\n",
    "# Build schema\n",
    "schema = build_schema()\n",
    "\n",
    "# Fetch movie data\n",
    "raw_data = fetch_movie_data(movie_ids, schema)\n",
    "\n",
    "# Display schema\n",
    "print(\"Raw Data Schema:\")\n",
    "raw_data.printSchema()\n",
    "\n",
    "\n",
    "# Display first few rows\n",
    "print(\"\\nSample Raw Data:\")\n",
    "raw_data.show(5, truncate=False)"
   ]
  },
  {
   "cell_type": "markdown",
   "metadata": {},
   "source": [
    "## Cleaning the Movie Dataset\n",
    "\n",
    "- **Clean raw data:** Applies `clean_movie_data()` to standardize column names, process JSON-like fields, and convert data types.\n",
    "\n",
    "- **Handle zeros:** Replaces zero values in budget, revenue, and runtime with NULL.\n",
    "\n",
    "- **Calculate metrics:** Adds financial metrics like profit and ROI (return on investment).\n",
    "\n",
    "- **Standardize fields:** Unifies genre and production country formats for consistency.\n",
    "\n",
    "- **Preview cleaned data:** Displays the schema and first few records of the cleaned dataset."
   ]
  },
  {
   "cell_type": "code",
   "execution_count": null,
   "metadata": {},
   "outputs": [],
   "source": [
    "# Clean the raw data\n",
    "cleaned_data = clean_movie_data(raw_data)\n",
    "\n",
    "# Cache the cleaned DataFrame for performance\n",
    "cleaned_data.cache()\n",
    "\n",
    "# Display schema\n",
    "print(\"Cleaned Data Schema:\")\n",
    "cleaned_data.printSchema()\n",
    "\n",
    "# Display first few rows\n",
    "print(\"\\nSample Cleaned Data:\")\n",
    "cleaned_data.show(5, truncate=False)"
   ]
  },
  {
   "cell_type": "code",
   "execution_count": null,
   "metadata": {},
   "outputs": [],
   "source": []
  },
  {
   "cell_type": "markdown",
   "metadata": {},
   "source": [
    "## Key Performance Indicators (KPIs)\n",
    "\n",
    "- **Rank movies:** Uses `kpi_ranking()` to rank movies by revenue, displaying the top 5.\n",
    "\n",
    "- **Filter and rank:** Optionally filters movies by a metric (e.g., vote count) before ranking."
   ]
  },
  {
   "cell_type": "code",
   "execution_count": null,
   "metadata": {},
   "outputs": [],
   "source": [
    "print(\"\\nTop 5 Movies by Revenue:\")\n",
    "kpi_ranking(cleaned_data, 'revenue_millions', n=5, top=True).select(\n",
    "    'title', 'revenue_millions', 'budget_millions'\n",
    ").show(truncate=False)\n",
    "\n",
    "print(\"\\nTop 5 Movies by Budget:\")\n",
    "kpi_ranking(cleaned_data, 'budget_millions', n=5, top=True).select(\n",
    "    'title', 'budget_millions', 'revenue_millions'\n",
    ").show(truncate=False)\n",
    "\n",
    "print(\"\\nTop 5 Movies by Profit:\")\n",
    "kpi_ranking(cleaned_data, 'profit', n=5, top=True).select(\n",
    "    'title', 'profit', 'revenue_millions', 'budget_millions'\n",
    ").show(truncate=False)\n",
    "\n",
    "print(\"\\nBottom 5 Movies by Profit:\")\n",
    "kpi_ranking(cleaned_data, 'profit', n=5, top=False).select(\n",
    "    'title', 'profit', 'revenue_millions', 'budget_millions'\n",
    ").show(truncate=False)\n",
    "\n",
    "print(\"\\nTop 5 Movies by ROI (Budget >= 10M):\")\n",
    "kpi_ranking(cleaned_data, 'roi', n=5, top=True, filter_col='budget_millions', filter_val=10).select(\n",
    "    'title', 'roi', 'revenue_millions', 'budget_millions'\n",
    ").show(truncate=False)\n",
    "\n",
    "print(\"\\nBottom 5 Movies by ROI (Budget >= 10M):\")\n",
    "kpi_ranking(cleaned_data, 'roi', n=5, top=False, filter_col='budget_millions', filter_val=10).select(\n",
    "    'title', 'roi', 'revenue_millions', 'budget_millions'\n",
    ").show(truncate=False)\n",
    "\n",
    "print(\"\\nTop 5 Most Voted Movies:\")\n",
    "kpi_ranking(cleaned_data, 'vote_count', n=5, top=True).select(\n",
    "    'title', 'vote_count', 'vote_average'\n",
    ").show(truncate=False)\n",
    "\n",
    "print(\"\\nTop 5 Highest Rated Movies (Vote Count >= 10):\")\n",
    "kpi_ranking(cleaned_data, 'vote_average', n=5, top=True, filter_col='vote_count', filter_val=10).select(\n",
    "    'title', 'vote_average', 'vote_count'\n",
    ").show(truncate=False)\n",
    "\n",
    "print(\"\\nBottom 5 Lowest Rated Movies (Vote Count >= 10):\")\n",
    "kpi_ranking(cleaned_data, 'vote_average', n=5, top=False, filter_col='vote_count', filter_val=10).select(\n",
    "    'title', 'vote_average', 'vote_count'\n",
    ").show(truncate=False)\n",
    "\n",
    "print(\"\\nTop 5 Most Popular Movies:\")\n",
    "kpi_ranking(cleaned_data, 'popularity', n=5, top=True).select(\n",
    "    'title', 'popularity', 'vote_average'\n",
    ").show(truncate=False)\n",
    "\n",
    "print(\"\\nMovies with Action Genre:\")\n",
    "advanced_search(cleaned_data, genre_keywords='Action', sort_by='revenue_millions').select(\n",
    "    'title', 'genre_names', 'revenue_millions'\n",
    ").show(truncate=False)"
   ]
  },
  {
   "cell_type": "markdown",
   "metadata": {},
   "source": [
    "## Advanced Search\n",
    "\n",
    "- **Filter movies:** Uses `advanced_search()` to find movies based on genre, cast, or director keywords.\n",
    "\n",
    "- **Sort results:** Sorts the filtered results by a specified metric (e.g., revenue)."
   ]
  },
  {
   "cell_type": "code",
   "execution_count": null,
   "metadata": {},
   "outputs": [],
   "source": [
    "print(\"\\nBest-Rated Science Fiction Action Movies Starring Bruce Willis:\")\n",
    "advanced_search(\n",
    "    cleaned_data,\n",
    "    genre_keywords='Science Fiction|Action',\n",
    "    cast_keywords='Bruce Willis',\n",
    "    sort_by='vote_average',\n",
    "    ascending=False\n",
    ").select(\n",
    "    'title', 'genre_names', 'vote_average', 'cast_names'\n",
    ").show(truncate=False)\n",
    "\n",
    "print(\"\\nMovies Starring Uma Thurman Directed by Quentin Tarantino:\")\n",
    "advanced_search(\n",
    "    cleaned_data,\n",
    "    cast_keywords='Uma Thurman',\n",
    "    director_keywords='Quentin Tarantino',\n",
    "    sort_by='runtime',\n",
    "    ascending=True\n",
    ").select(\n",
    "    'title', 'cast_names', 'director', 'runtime'\n",
    ").show(truncate=False)"
   ]
  },
  {
   "cell_type": "markdown",
   "metadata": {},
   "source": [
    "## Franchise vs. Standalone Comparison\n",
    "\n",
    "- **Compare groups:** Uses `franchise_vs_standalone()` to compute mean revenue, ROI, budget, popularity, and rating for franchise and standalone movies.\n",
    "- **Display results:** Shows a comparison table with aggregated metrics."
   ]
  },
  {
   "cell_type": "code",
   "execution_count": null,
   "metadata": {},
   "outputs": [],
   "source": [
    "# Compare franchise vs standalone movies\n",
    "print(\"Franchise vs Standalone Comparison:\")\n",
    "franchise_vs_standalone(cleaned_data).show(truncate=False)"
   ]
  },
  {
   "cell_type": "markdown",
   "metadata": {},
   "source": [
    "## Franchise Analysis\n",
    "\n",
    "- **Analyze franchises:** Uses `analyze_franchise()` to aggregate movie counts, budgets, revenues, ratings, and ROI by franchise.\n",
    "\n",
    "- **Sort results:** Sorts franchises by total revenue to identify top performers."
   ]
  },
  {
   "cell_type": "code",
   "execution_count": null,
   "metadata": {},
   "outputs": [],
   "source": [
    "# Top franchises by total revenue\n",
    "print(\"Top Franchises by Total Revenue:\")\n",
    "analyze_franchise(cleaned_data, sort_by='total_revenue_millions').show(5, truncate=False)"
   ]
  },
  {
   "cell_type": "markdown",
   "metadata": {},
   "source": [
    "## Director Analysis\n",
    "\n",
    "- **Analyze directors:** Uses `analyze_directors()` to aggregate movie counts, revenues, ratings, and ROI for directors of franchise movies.\n",
    "\n",
    "- **Sort results:** Sorts directors by total revenue to highlight top performers."
   ]
  },
  {
   "cell_type": "code",
   "execution_count": null,
   "metadata": {},
   "outputs": [],
   "source": [
    "# Top directors by total revenue\n",
    "print(\"Top Directors by Total Revenue:\")\n",
    "analyze_directors(cleaned_data, sort_by='total_revenue_millions').show(5, truncate=False)"
   ]
  },
  {
   "cell_type": "markdown",
   "metadata": {},
   "source": [
    "## Visualizations\n",
    "\n",
    "- **Generate plots:** Converts Spark DataFrames to Pandas for visualization using Matplotlib.\n",
    "\n",
    "- **Revenue vs. Budget:** Scatter plot of revenue vs. budget.\n",
    "\n",
    "- **ROI by Genre:** Bar plot of average ROI by genre.\n",
    "\n",
    "- **Popularity vs. Rating:** Scatter plot of popularity vs. rating.\n",
    "\n",
    "- **Yearly Box Office:** Line plot of total revenue by release year.\n",
    "\n",
    "- **Franchise vs. Standalone:** Bar plot comparing mean metrics."
   ]
  },
  {
   "cell_type": "code",
   "execution_count": null,
   "metadata": {},
   "outputs": [],
   "source": [
    "print(\"\\nGenerating visualizations...\")\n",
    "plot_revenue_vs_budget(cleaned_data)\n",
    "print(\"Saved revenue_vs_budget.png\")\n",
    "\n",
    "plot_roi_by_genre(cleaned_data)\n",
    "print(\"Saved roi_by_genre.png\")\n",
    "\n",
    "plot_popularity_vs_rating(cleaned_data)\n",
    "print(\"Saved popularity_vs_rating.png\")\n",
    "\n",
    "plot_yearly_box_office(cleaned_data)\n",
    "print(\"Saved yearly_box_office.png\")\n",
    "\n",
    "plot_franchise_vs_standalone(cleaned_data)\n",
    "print(\"Saved franchise_vs_standalone.png\")"
   ]
  },
  {
   "cell_type": "markdown",
   "metadata": {},
   "source": [
    "## Cleanup\n",
    "\n",
    "- **Stop Spark session:** Releases resources by stopping the SparkSession."
   ]
  },
  {
   "cell_type": "code",
   "execution_count": null,
   "metadata": {},
   "outputs": [],
   "source": [
    "# Stop the Spark session\n",
    "spark.stop()\n",
    "print(\"Analysis complete!\")"
   ]
  }
 ],
 "metadata": {
  "kernelspec": {
   "display_name": "Python (PySpark)",
   "language": "python",
   "name": "pyspark-env"
  },
  "language_info": {
   "codemirror_mode": {
    "name": "ipython",
    "version": 3
   },
   "file_extension": ".py",
   "mimetype": "text/x-python",
   "name": "python",
   "nbconvert_exporter": "python",
   "pygments_lexer": "ipython3",
   "version": "3.11.7"
  }
 },
 "nbformat": 4,
 "nbformat_minor": 2
}
