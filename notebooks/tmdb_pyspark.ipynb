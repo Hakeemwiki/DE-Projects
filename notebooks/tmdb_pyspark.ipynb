{
 "cells": [
  {
   "cell_type": "markdown",
   "metadata": {},
   "source": [
    "## 1. Initialize Spark Session"
   ]
  },
  {
   "cell_type": "code",
   "execution_count": 14,
   "metadata": {},
   "outputs": [],
   "source": [
    "from pyspark.sql import SparkSession\n",
    "from pyspark.sql.functions import *\n",
    "from pyspark.sql.types import *\n",
    "import requests\n",
    "import os\n",
    "from dotenv import load_dotenv"
   ]
  },
  {
   "cell_type": "code",
   "execution_count": 15,
   "metadata": {},
   "outputs": [],
   "source": [
    "# Configure Spark with increased memory\n",
    "\n",
    "spark = SparkSession.builder.appName(\"TMDB analysis\").getOrCreate()\n"
   ]
  },
  {
   "cell_type": "markdown",
   "metadata": {},
   "source": [
    "## 2. Data Fetching (Adapted for Spark)\n"
   ]
  },
  {
   "cell_type": "code",
   "execution_count": 19,
   "metadata": {},
   "outputs": [
    {
     "name": "stdout",
     "output_type": "stream",
     "text": [
      "Fetched 19 movies\n"
     ]
    }
   ],
   "source": [
    "def fetch_movie_data_spark(movie_ids):\n",
    "    \"\"\"Fetch data and return as Spark DataFrame\"\"\"\n",
    "    load_dotenv()\n",
    "    api_key = os.getenv('api_key')\n",
    "    if not api_key:\n",
    "        raise ValueError(\"API_KEY environment variable not set\")\n",
    "    \n",
    "    base_url = \"https://api.themoviedb.org/3/movie/{}?api_key={}&append_to_response=credits\"\n",
    "    \n",
    "    # Fetch data using Python requests (single-node operation)\n",
    "    movies = []\n",
    "    for mid in movie_ids:\n",
    "        try:\n",
    "            response = requests.get(base_url.format(mid, api_key), timeout=5)\n",
    "            movies.append(response.json())\n",
    "        except Exception as e:\n",
    "            print(f\"Failed to fetch movie {mid}: {e}, {response.status_code}, {response.json()}\")\n",
    "    \n",
    "    # Convert to Spark DataFrame\n",
    "    return spark.createDataFrame(movies)\n",
    "\n",
    "movie_ids = [0, 299534, 19995, 140607, 299536, 597, 135397, \n",
    "             420818, 24428, 168259, 99861, 284054, 12445,\n",
    "             181808, 330457, 351286, 109445, 321612, 260513]\n",
    "\n",
    "raw_df = fetch_movie_data_spark(movie_ids)\n",
    "raw_df.cache()  # Cache for multiple operations\n",
    "print(f\"Fetched {raw_df.count()} movies\")"
   ]
  },
  {
   "cell_type": "code",
   "execution_count": 17,
   "metadata": {},
   "outputs": [
    {
     "name": "stdout",
     "output_type": "stream",
     "text": [
      "+-----------+--------------------+-------+-----+--------------------+---------------------+---------+--------------------+--------------------+--------------------+------+---------+--------------+-----------------+--------------------+--------------------+----------+--------------------+--------------------+--------------------+------------+----------+-------+--------------------+--------+--------------------+--------------------+-----+------------+----------+\n",
      "|status_code|      status_message|success|adult|       backdrop_path|belongs_to_collection|   budget|             credits|              genres|            homepage|    id|  imdb_id|origin_country|original_language|      original_title|            overview|popularity|         poster_path|production_companies|production_countries|release_date|   revenue|runtime|    spoken_languages|  status|             tagline|               title|video|vote_average|vote_count|\n",
      "+-----------+--------------------+-------+-----+--------------------+---------------------+---------+--------------------+--------------------+--------------------+------+---------+--------------+-----------------+--------------------+--------------------+----------+--------------------+--------------------+--------------------+------------+----------+-------+--------------------+--------+--------------------+--------------------+-----+------------+----------+\n",
      "|         34|The resource you ...|  false| NULL|                NULL|                 NULL|     NULL|                NULL|                NULL|                NULL|  NULL|     NULL|          NULL|             NULL|                NULL|                NULL|      NULL|                NULL|                NULL|                NULL|        NULL|      NULL|   NULL|                NULL|    NULL|                NULL|                NULL| NULL|        NULL|      NULL|\n",
      "|       NULL|                NULL|   NULL|false|/7RyHsO4yDXtBv1zU...| {backdrop_path ->...|356000000|{cast -> [{cast_i...|[{name -> NULL, i...|https://www.marve...|299534|tt4154796|          [US]|               en|   Avengers: Endgame|After the devasta...|   31.4799|/ulzhLuWrPK07P1Yk...|[{name -> NULL, i...|[{name -> United ...|  2019-04-24|2799439100|    181|[{name -> English...|Released|  Avenge the fallen.|   Avengers: Endgame|false|       8.237|     26244|\n",
      "|       NULL|                NULL|   NULL|false|/vL5LR6WdxWPjLPFR...| {backdrop_path ->...|237000000|{cast -> [{cast_i...|[{name -> NULL, i...|https://www.avata...| 19995|tt0499549|          [US]|               en|              Avatar|In the 22nd centu...|    30.968|/kyeqWdyUXW608qlY...|[{name -> NULL, i...|[{name -> United ...|  2009-12-15|2923706026|    162|[{name -> English...|Released|Enter the world o...|              Avatar|false|       7.588|     32157|\n",
      "|       NULL|                NULL|   NULL|false|/k6EOrckWFuz7I4z4...| {backdrop_path ->...|245000000|{cast -> [{cast_i...|[{name -> NULL, i...|http://www.starwa...|140607|tt2488496|          [US]|               en|Star Wars: The Fo...|Thirty years afte...|   17.8913|/wqnLdwVXoBjKibFR...|[{name -> NULL, i...|[{name -> United ...|  2015-12-15|2068223624|    136|[{name -> English...|Released|Every generation ...|Star Wars: The Fo...|false|       7.261|     19689|\n",
      "|       NULL|                NULL|   NULL|false|/mDfJG3LC3Dqb67AZ...| {backdrop_path ->...|300000000|{cast -> [{cast_i...|[{name -> NULL, i...|https://www.marve...|299536|tt4154756|          [US]|               en|Avengers: Infinit...|As the Avengers a...|   76.4397|/7WsyChQLEftFiDOV...|[{name -> NULL, i...|[{name -> United ...|  2018-04-25|2052415039|    149|[{name -> English...|Released|Destiny arrives a...|Avengers: Infinit...|false|       8.235|     30424|\n",
      "|       NULL|                NULL|   NULL|false|/sCzcYW9h55WcesOq...|                 NULL|200000000|{cast -> [{cast_i...|[{name -> NULL, i...|https://www.param...|   597|tt0120338|          [US]|               en|             Titanic|101-year-old Rose...|   49.1281|/9xjZS2rlVxm8SFx8...|[{name -> NULL, i...|[{name -> United ...|  1997-11-18|2264162353|    194|[{name -> English...|Released|Nothing on Earth ...|             Titanic|false|       7.906|     25906|\n",
      "|       NULL|                NULL|   NULL|false|/aIGIYJTyOkEVUmEd...| {backdrop_path ->...|150000000|{cast -> [{cast_i...|[{name -> NULL, i...|https://www.juras...|135397|tt0369610|          [US]|               en|      Jurassic World|Twenty-two years ...|    22.183|/rhr4y79GpxQF9Isf...|[{name -> NULL, i...|[{name -> United ...|  2015-06-06|1671537444|    124|[{name -> English...|Released|   The park is open.|      Jurassic World|false|       6.693|     20648|\n",
      "|       NULL|                NULL|   NULL|false|/1TUg5pO1VZ4B0Q1a...| {backdrop_path ->...|260000000|{cast -> [{cast_i...|[{name -> NULL, i...|https://movies.di...|420818|tt6105098|          [US]|               en|       The Lion King|Simba idolizes hi...|   33.2421|/dzBtMocZuJbjLOXv...|[{name -> NULL, i...|[{name -> United ...|  2019-07-12|1662020819|    118|[{name -> English...|Released|The king has retu...|       The Lion King|false|        7.11|     10316|\n",
      "|       NULL|                NULL|   NULL|false|/9BBTo63ANSmhC4e6...| {backdrop_path ->...|220000000|{cast -> [{cast_i...|[{name -> NULL, i...|https://www.marve...| 24428|tt0848228|          [US]|               en|        The Avengers|When an unexpecte...|   47.1023|/RYMX2wcKCBAr24Uy...|[{name -> NULL, i...|[{name -> United ...|  2012-04-25|1518815515|    143|[{name -> English...|Released|Some assembly req...|        The Avengers|false|       7.739|     31606|\n",
      "|       NULL|                NULL|   NULL|false|/cHkhb5A4gQRK6zs6...| {backdrop_path ->...|190000000|{cast -> [{cast_i...|[{name -> NULL, i...|https://www.uphe....|168259|tt2820852|          [US]|               en|           Furious 7|Deckard Shaw seek...|   17.4112|/wurKlC3VKUgcfsn0...|[{name -> NULL, i...|[{name -> United ...|  2015-04-01|1515400000|    137|[{name -> العربية...|Released|Vengeance hits home.|           Furious 7|false|       7.225|     10773|\n",
      "|       NULL|                NULL|   NULL|false|/6YwkGolwdOMNpbTO...| {backdrop_path ->...|365000000|{cast -> [{cast_i...|[{name -> NULL, i...|https://www.marve...| 99861|tt2395427|          [US]|               en|Avengers: Age of ...|When Tony Stark t...|   22.5457|/4ssDuvEDkSArWEdy...|[{name -> NULL, i...|[{name -> United ...|  2015-04-22|1405403694|    141|[{name -> English...|Released| A new age has come.|Avengers: Age of ...|false|       7.271|     23366|\n",
      "|       NULL|                NULL|   NULL|false|/b6ZJZHUdMEFECvGi...| {backdrop_path ->...|200000000|{cast -> [{cast_i...|[{name -> NULL, i...|https://www.marve...|284054|tt1825683|          [US]|               en|       Black Panther|King T'Challa ret...|   27.3326|/uxzzxijgPIY7slzF...|[{name -> NULL, i...|[{name -> United ...|  2018-02-13|1349926083|    135|[{name -> English...|Released| Long live the king.|       Black Panther|false|       7.373|     22505|\n",
      "|       NULL|                NULL|   NULL|false|/n5A7brJCjejceZmH...| {backdrop_path ->...|125000000|{cast -> [{cast_i...|[{name -> NULL, i...|https://www.warne...| 12445|tt1201607|          [GB]|               en|Harry Potter and ...|Harry, Ron and He...|   23.3456|/c54HpQmuwXjHq2C9...|[{name -> NULL, i...|[{name -> United ...|  2011-07-12|1341511219|    130|[{name -> English...|Released|        It all ends.|Harry Potter and ...|false|       8.087|     20966|\n",
      "|       NULL|                NULL|   NULL|false|/5Iw7zQTHVRBOYpA0...| {backdrop_path ->...|200000000|{cast -> [{cast_i...|[{name -> NULL, i...|https://www.starw...|181808|tt2527336|          [US]|               en|Star Wars: The La...|Rey develops her ...|    22.373|/kOVEVeg59E0wsnXm...|[{name -> NULL, i...|[{name -> United ...|  2017-12-13|1332698830|    152|[{name -> English...|Released|Darkness rises......|Star Wars: The La...|false|       6.779|     15550|\n",
      "|       NULL|                NULL|   NULL|false|/AoSZyb37ljMAxw0R...| {backdrop_path ->...|150000000|{cast -> [{cast_i...|[{name -> NULL, i...|https://movies.di...|330457|tt4520988|          [US]|               en|           Frozen II|Elsa, Anna, Krist...|   17.3078|/mINJaa34MtknCYl5...|[{name -> NULL, i...|[{name -> United ...|  2019-11-20|1453683476|    103|[{name -> English...|Released|The past is not w...|           Frozen II|false|        7.25|      9879|\n",
      "|       NULL|                NULL|   NULL|false|/6WA9stUMbIkEPxn3...| {backdrop_path ->...|170000000|{cast -> [{cast_i...|[{name -> NULL, i...|https://www.uphe....|351286|tt4881806|          [US]|               en|Jurassic World: F...|Three years after...|   26.5089|/270MrJNqJovumHXG...|[{name -> NULL, i...|[{name -> United ...|  2018-06-06|1310466296|    129|[{name -> English...|Released|   The park is gone.|Jurassic World: F...|false|       6.537|     12019|\n",
      "|       NULL|                NULL|   NULL|false|/u2bZhH3nTf0So0UI...| {backdrop_path ->...|150000000|{cast -> [{cast_i...|[{name -> NULL, i...|http://movies.dis...|109445|tt2294629|          [US]|               en|              Frozen|Young princess An...|   23.6874|/m4uhSpErBKprhscl...|[{name -> NULL, i...|[{name -> United ...|  2013-11-20|1274219009|    102|[{name -> English...|Released|Only the act of t...|              Frozen|false|       7.247|     16807|\n",
      "|       NULL|                NULL|   NULL|false|/uU1Mt4JWhDvl4vKb...|                 NULL|160000000|{cast -> [{cast_i...|[{name -> NULL, i...|http://movies.dis...|321612|tt2771200|          [US]|               en|Beauty and the Beast|A live-action ada...|   34.6863|/hKegSKIDep2ewJWP...|[{name -> NULL, i...|[{name -> United ...|  2017-03-16|1266115964|    129|[{name -> English...|Released|       Be our guest.|Beauty and the Beast|false|       6.971|     15594|\n",
      "|       NULL|                NULL|   NULL|false|/mabuNsGJgRuCTuGq...| {backdrop_path ->...|200000000|{cast -> [{cast_i...|[{name -> NULL, i...|https://movies.di...|260513|tt3606756|          [US]|               en|       Incredibles 2|Elastigirl spring...|    10.063|/9lFKBtaVIhP7E2Pk...|[{name -> NULL, i...|[{name -> United ...|  2018-06-14|1242805359|    118|[{name -> English...|Released|It's been too lon...|       Incredibles 2|false|       7.454|     13032|\n",
      "+-----------+--------------------+-------+-----+--------------------+---------------------+---------+--------------------+--------------------+--------------------+------+---------+--------------+-----------------+--------------------+--------------------+----------+--------------------+--------------------+--------------------+------------+----------+-------+--------------------+--------+--------------------+--------------------+-----+------------+----------+\n",
      "\n"
     ]
    }
   ],
   "source": [
    "raw_df.show()"
   ]
  },
  {
   "cell_type": "code",
   "execution_count": 18,
   "metadata": {},
   "outputs": [
    {
     "name": "stdout",
     "output_type": "stream",
     "text": [
      "+--------------------+\n",
      "|               title|\n",
      "+--------------------+\n",
      "|                NULL|\n",
      "|   Avengers: Endgame|\n",
      "|              Avatar|\n",
      "|Star Wars: The Fo...|\n",
      "|Avengers: Infinit...|\n",
      "|             Titanic|\n",
      "|      Jurassic World|\n",
      "|       The Lion King|\n",
      "|        The Avengers|\n",
      "|           Furious 7|\n",
      "|Avengers: Age of ...|\n",
      "|       Black Panther|\n",
      "|Harry Potter and ...|\n",
      "|Star Wars: The La...|\n",
      "|           Frozen II|\n",
      "|Jurassic World: F...|\n",
      "|              Frozen|\n",
      "|Beauty and the Beast|\n",
      "|       Incredibles 2|\n",
      "+--------------------+\n",
      "\n"
     ]
    }
   ],
   "source": [
    "raw_df.select('title').show()"
   ]
  },
  {
   "cell_type": "code",
   "execution_count": null,
   "metadata": {},
   "outputs": [],
   "source": []
  }
 ],
 "metadata": {
  "kernelspec": {
   "display_name": "Python (PySpark)",
   "language": "python",
   "name": "pyspark-env"
  },
  "language_info": {
   "codemirror_mode": {
    "name": "ipython",
    "version": 3
   },
   "file_extension": ".py",
   "mimetype": "text/x-python",
   "name": "python",
   "nbconvert_exporter": "python",
   "pygments_lexer": "ipython3",
   "version": "3.11.7"
  }
 },
 "nbformat": 4,
 "nbformat_minor": 2
}
